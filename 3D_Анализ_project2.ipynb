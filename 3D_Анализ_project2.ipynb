{
 "cells": [
  {
   "cell_type": "code",
   "execution_count": 12,
   "metadata": {},
   "outputs": [
    {
     "data": {
      "text/html": [
       "<img src=\"https://skr.sh/i/270520/WSUmywfJ.png?download=1\"/>"
      ],
      "text/plain": [
       "<IPython.core.display.Image object>"
      ]
     },
     "metadata": {},
     "output_type": "display_data"
    }
   ],
   "source": [
    "from IPython.display import Image\n",
    "display(Image(url='https://skr.sh/i/270520/WSUmywfJ.png?download=1'))"
   ]
  },
  {
   "cell_type": "markdown",
   "metadata": {},
   "source": [
    "## Введение"
   ]
  },
  {
   "cell_type": "markdown",
   "metadata": {},
   "source": [
    "Здравствуйте, последние 2 года я очень сильно увлеклась 3D визуализацией. Обнаружила для себя много интересных способов, и реализаций различных вещей в 3d пространстве.\n",
    "\n",
    "И когда встал вопрос выбрать тему для анализа данных, больше всего по душе мне пришлась реализация обработанных данных в наглядной 3d картинке.\n",
    "И хотя ранее я с этим не сталкивалась, у меня не было совершенно никаких познаний и о половине проекта, мне действительно хотелось попробовать визуализировать поставленную задачу."
   ]
  },
  {
   "cell_type": "markdown",
   "metadata": {},
   "source": [
    "### Суть проекта\n",
    "Суть пректа, как таковая, заключается в реализации статистики землетрясений.\n",
    "Поскольку по большей части 3D это мое хобби, создавать визуализацию на основе некоторых открытых данных из интернета,  было для меня чем-то не только новым, но и интересным. Был написан код на языке Python, который позволяет отображать данные в облака точек, создавая модель, которая отлична по своей реализации от традиционных полигональных моделей, однако же они могут быть в них преобразованы, ведь на деле это является обычными вертексами."
   ]
  },
  {
   "cell_type": "markdown",
   "metadata": {},
   "source": [
    "Используемые модули, библиотеки\n",
    "- Matplotlib\n",
    "- NetCDF4, \n",
    "- Scipy\n",
    "- Numpy\n",
    "- Blender"
   ]
  },
  {
   "cell_type": "markdown",
   "metadata": {},
   "source": [
    "Источники информации\n",
    "    - https://www.noaa.gov/\n",
    "    - https://earthquake.usgs.gov/fdsnws/event/1/ - API Documentation - Earthquake Catalog\n",
    "    - https://blender3d.com.ua/meshi-s-pomoshchyu-python-i-blender-icospheres/ - про образование через код в программе Blender"
   ]
  },
  {
   "cell_type": "markdown",
   "metadata": {},
   "source": [
    "\n",
    "### Теория"
   ]
  },
  {
   "cell_type": "markdown",
   "metadata": {},
   "source": [
    "Земля состоит из множества \"слоев\". Внешняя кора разбита на пластины, которые дрейфуют по поверхности Земли со скоростью несколько сантиметров в год, как показано на картинке ниже:"
   ]
  },
  {
   "cell_type": "code",
   "execution_count": 11,
   "metadata": {},
   "outputs": [
    {
     "data": {
      "text/html": [
       "<img src=\"https://sun9-30.userapi.com/wNKy8XQp58myXU1jqLXJ83wfQSocU-4d6K5efA/Er86B2yOyl4.jpg\"/>"
      ],
      "text/plain": [
       "<IPython.core.display.Image object>"
      ]
     },
     "metadata": {},
     "output_type": "display_data"
    }
   ],
   "source": [
    "from IPython.display import Image\n",
    "display(Image(url='https://sun9-30.userapi.com/wNKy8XQp58myXU1jqLXJ83wfQSocU-4d6K5efA/Er86B2yOyl4.jpg'))"
   ]
  },
  {
   "cell_type": "markdown",
   "metadata": {},
   "source": [
    "Эти плиты встречаются, сталкиваются и часто перелазят друг на друга. Одно из тех явлений называется *субдукционным* [1], которое обычно происходит, когда океаническая скользит под континентальным плитами, что часто приводит к землетрясениям.\n",
    "\n",
    "В то время как другие типы столкновений плит могут привести к возникновению зон повышенной сейсмичности, таких как разлом Сан—Андреас (вдоль которого медленно—но неуклонно-скользят две плиты). Другой вид вызванного тектоникой события-это создание топографического рельефа: дайте несколько миллионов лет, и вы можете быть почти уверены, что две континентальные плиты, дрейфующие навстречу друг другу, дадут рождение красивому горному хребту!\n",
    "\n",
    "Тот факт , что землетрясения в основном происходят на границах между плитами, является прямым следствием всех этих различных явлений."
   ]
  },
  {
   "cell_type": "markdown",
   "metadata": {},
   "source": [
    "1. https://en.wikipedia.org/wiki/Subduction"
   ]
  },
  {
   "cell_type": "markdown",
   "metadata": {},
   "source": [
    "### Данные"
   ]
  },
  {
   "cell_type": "markdown",
   "metadata": {},
   "source": [
    "Помимо данных наземной маски, поступающих от Национального управления США по океаническим и атмосферным вопросам (NOAA) [2] , данные, также были использованы данные для создания визуализации , полученные из каталога землетрясений-сервиса, предоставляемого Геологической службой США (USGS) [3], основанного на базе данных землетрясений, измеренных по всему миру.\n",
    "2. https://www.noaa.gov/\n",
    "3. https://www.usgs.gov/"
   ]
  },
  {
   "cell_type": "markdown",
   "metadata": {},
   "source": [
    "Эта услуга используется для наблюдения и мониторинга землетрясений, а также, среди других видов использования, служит в качестве основы для программ оповещения диспетчер. Соответствующие данные доступны в различных формах:\n",
    "\n",
    "- Глобальная карта последних землетрясений \n",
    "- Лента в реальном времени в различных форматах\n",
    "- Графический интерфейс поиска по каталогу\n",
    "- API для извлечения событий программно"
   ]
  },
  {
   "cell_type": "markdown",
   "metadata": {},
   "source": [
    "- https://earthquake.usgs.gov/earthquakes/map/#%7B%22autoUpdate%22%3A%5B%22autoUpdate%22%5D%2C%22basemap%22%3A%22grayscale%22%2C%22feed%22%3A%221day_m25%22%2C%22listFormat%22%3A%22default%22%2C%22mapposition%22%3A%5B%5B-81.14748070499662%2C-376.17187499999994%5D%2C%5B85.0511287798066%2C186.328125%5D%5D%2C%22overlays%22%3A%5B%22plates%22%5D%2C%22restrictListToMap%22%3A%5B%22restrictListToMap%22%5D%2C%22search%22%3Anull%2C%22sort%22%3A%22newest%22%2C%22timezone%22%3A%22utc%22%2C%22viewModes%22%3A%5B%22list%22%2C%22map%22%5D%2C%22event%22%3Anull%7D\n",
    "- https://earthquake.usgs.gov/earthquakes/feed/\n",
    "- https://earthquake.usgs.gov/earthquakes/search/\n",
    "- https://earthquake.usgs.gov/fdsnws/event/1/"
   ]
  },
  {
   "cell_type": "markdown",
   "metadata": {},
   "source": [
    "API (Application Programming Interface) - это эффективный способ для разработчиков программного обеспечения получить доступ к данным, хранящимся на серверах USGS.\n",
    "\n",
    "Основная идея заключается в том, что, сделав запрос (аналогичный тем, которые происходят в браузере при открытии веб-страницы или просмотре моделей в web формате) на стандартный URL, связанный с пользовательскими параметрами, серверы USGS могут отправить обратно запрошенные данные.\n",
    "Факт доступа к запрошенным данным, является результатом вызова API, возвращающего информацию для всех землетрясений магнитудой выше определенного значения."
   ]
  },
  {
   "cell_type": "markdown",
   "metadata": {},
   "source": [
    "## Облака точек"
   ]
  },
  {
   "cell_type": "markdown",
   "metadata": {},
   "source": [
    "Облако точек - это набор точек данных в пространстве. Облака точек обычно создаются 3D-сканерами, которые измеряют большое количество точек на внешних поверхностях объектов вокруг них. В качестве выходных данных процессов 3D-сканирования облака точек используются для многих целей, в том числе для создания 3D-моделей САПР для изготовленных деталей, для метрологии и контроля качества, а также для множества приложений визуализации, анимации, визуализации и массовой настройки. (Википедия) [///]\n",
    "\n",
    "В геоинформационных системах облака точек являются одним из источников, используемых для построения цифровой модели рельефа местности. они также используются для создания 3D-моделей городской среды. Дроны часто используются для сбора серии изображений RGB, которые впоследствии могут быть обработаны на платформе алгоритмов компьютерного зрения, таких как AgiSoft Photoscan или Pix4D или DroneDeploy, чтобы создать облака точек RGB, из которых могут быть сделаны расстояния и объемные оценки."
   ]
  },
  {
   "cell_type": "markdown",
   "metadata": {},
   "source": [
    "https://en.wikipedia.org/wiki/Point_cloud"
   ]
  },
  {
   "cell_type": "markdown",
   "metadata": {},
   "source": [
    "Некоторые примеры визуализации с помощью облака точек, найденные в интернете."
   ]
  },
  {
   "cell_type": "code",
   "execution_count": 6,
   "metadata": {},
   "outputs": [
    {
     "data": {
      "text/html": [
       "<img src=\"https://psv4.userapi.com/c856416/u59259540/docs/d4/5ee5e2b48afd/Video-29-05-2020-070355.gif?extra=K9DyPh52S7cr6_-EynMBI7MFQaaqgaxYPx6RjyT0b0VvE_O7pv6KYSc41UauYcB9tm-GAO4dD9I-NaDUN22wgT8xsTW2Odbue9ViBTEBaoIF_nPbzKMOAjd_RgrJhFRyr9CBqtfoze4KjJwrPIOd\"/>"
      ],
      "text/plain": [
       "<IPython.core.display.Image object>"
      ]
     },
     "metadata": {},
     "output_type": "display_data"
    },
    {
     "data": {
      "text/html": [
       "<img src=\"https://upload.wikimedia.org/wikipedia/commons/thumb/4/4c/Point_cloud_torus.gif/220px-Point_cloud_torus.gif\"/>"
      ],
      "text/plain": [
       "<IPython.core.display.Image object>"
      ]
     },
     "metadata": {},
     "output_type": "display_data"
    }
   ],
   "source": [
    "from IPython.display import Image\n",
    "display(Image(url='https://psv4.userapi.com/c856416/u59259540/docs/d4/5ee5e2b48afd/Video-29-05-2020-070355.gif?extra=K9DyPh52S7cr6_-EynMBI7MFQaaqgaxYPx6RjyT0b0VvE_O7pv6KYSc41UauYcB9tm-GAO4dD9I-NaDUN22wgT8xsTW2Odbue9ViBTEBaoIF_nPbzKMOAjd_RgrJhFRyr9CBqtfoze4KjJwrPIOd'))\n",
    "display(Image(url='https://upload.wikimedia.org/wikipedia/commons/thumb/4/4c/Point_cloud_torus.gif/220px-Point_cloud_torus.gif'))"
   ]
  },
  {
   "cell_type": "markdown",
   "metadata": {},
   "source": [
    "### Визуализация"
   ]
  },
  {
   "cell_type": "markdown",
   "metadata": {},
   "source": [
    "После определения источника данных, можно переходить к визуализации. Благодаря API собираются все данные о землятрясениях с определенной амплитудой и переодичностью. В результате получен список из примерно 50000 землятрясеней, с данными о долготе и широте, глубине и величине эпицентра землятрясеняи.\n",
    "С данным списком данных все, что нужно сделать для визуализации, это преобразовать географические координаты в 3d и записать файл формата plly, которые будет содержать полученное облако вертексов."
   ]
  },
  {
   "cell_type": "markdown",
   "metadata": {},
   "source": [
    "### Координаты"
   ]
  },
  {
   "cell_type": "markdown",
   "metadata": {},
   "source": [
    "Способов описания точки в трехмерном пространчтве несколько. Более привычное, координыт расположенные в трех ортогональных осях X,Y,Z - декартовыми координатами."
   ]
  },
  {
   "cell_type": "markdown",
   "metadata": {},
   "source": [
    "Другой способ определения точки в 3D-это использование сферических координат, которые также состоят из трех чисел: радиального расстояния от неподвижной точки, а также двух углов, наклон и азимут.\n",
    "В данном случае они и были использованы, так как изначально полученные данные хранились в сферичиских измерениях."
   ]
  },
  {
   "cell_type": "code",
   "execution_count": 10,
   "metadata": {},
   "outputs": [
    {
     "data": {
      "text/html": [
       "<img src=\"https://uslide.ru/images/16/22296/960/img1.jpg\"/>"
      ],
      "text/plain": [
       "<IPython.core.display.Image object>"
      ]
     },
     "metadata": {},
     "output_type": "display_data"
    },
    {
     "data": {
      "text/html": [
       "<img src=\"https://myslide.ru/documents_4/fabfc63eae3b7ffedf924afaffd6e0c9/img6.jpg\"/>"
      ],
      "text/plain": [
       "<IPython.core.display.Image object>"
      ]
     },
     "metadata": {},
     "output_type": "display_data"
    },
    {
     "data": {
      "text/html": [
       "<img src=\"https://i.pinimg.com/originals/02/e3/51/02e351c0f180adc78065fadc0c3b5f11.png\"/>"
      ],
      "text/plain": [
       "<IPython.core.display.Image object>"
      ]
     },
     "metadata": {},
     "output_type": "display_data"
    }
   ],
   "source": [
    "from IPython.display import Image\n",
    "display(Image(url='https://uslide.ru/images/16/22296/960/img1.jpg'))\n",
    "display(Image(url='https://myslide.ru/documents_4/fabfc63eae3b7ffedf924afaffd6e0c9/img6.jpg'))\n",
    "display(Image(url='https://i.pinimg.com/originals/02/e3/51/02e351c0f180adc78065fadc0c3b5f11.png'))"
   ]
  },
  {
   "cell_type": "markdown",
   "metadata": {},
   "source": [
    "- Радиус, r, приблизительно соответствует радиусу Земли (приблизительно 6400км), минус глубина землетрясения.\n",
    "- Угол наклона, θ, равен 90° минус широта..\n",
    "- Азимутальный угол, φ, совпадает с долготой."
   ]
  },
  {
   "cell_type": "markdown",
   "metadata": {},
   "source": [
    "### Цвета"
   ]
  },
  {
   "cell_type": "markdown",
   "metadata": {},
   "source": [
    "Для лучшего понимания картинки, вертексам можно придать цветовую гамму. Есть такая цвветовая карта как jet. Она обычно соответствует низкими значениями синему цвету, высоким значениям с красному и промежуточным значениям с градиентом бирюзового до оранжевого цветов. Но данный способ несколько искажает восприятие."
   ]
  },
  {
   "cell_type": "markdown",
   "metadata": {},
   "source": [
    "Вместо этого была использована перцептивно однородная последовательность цветовой картой - inferno, из библиотеки Python Matplotlib"
   ]
  },
  {
   "cell_type": "markdown",
   "metadata": {},
   "source": [
    "## Результат"
   ]
  },
  {
   "cell_type": "code",
   "execution_count": 15,
   "metadata": {
    "scrolled": true
   },
   "outputs": [
    {
     "data": {
      "text/html": [
       "<img src=\"https://skr.sh/i/270520/QLLZV0T8.png?download=1\"/>"
      ],
      "text/plain": [
       "<IPython.core.display.Image object>"
      ]
     },
     "metadata": {},
     "output_type": "display_data"
    },
    {
     "data": {
      "text/html": [
       "<img src=\"https://skr.sh/i/270520/zkrmhJnX.png?download=1\"/>"
      ],
      "text/plain": [
       "<IPython.core.display.Image object>"
      ]
     },
     "metadata": {},
     "output_type": "display_data"
    }
   ],
   "source": [
    "from IPython.display import Image\n",
    "display(Image(url='https://skr.sh/i/270520/QLLZV0T8.png?download=1'))\n",
    "display(Image(url='https://skr.sh/i/270520/zkrmhJnX.png?download=1'))"
   ]
  },
  {
   "cell_type": "code",
   "execution_count": 6,
   "metadata": {},
   "outputs": [
    {
     "data": {
      "text/html": [
       "<img src=\"https://skr.sh/i/270520/z4aiJhue.png?download=1\"/>"
      ],
      "text/plain": [
       "<IPython.core.display.Image object>"
      ]
     },
     "metadata": {},
     "output_type": "display_data"
    },
    {
     "data": {
      "text/html": [
       "<img src=\"https://skr.sh/i/270520/dWHGzlUX.png?download=1\"/>"
      ],
      "text/plain": [
       "<IPython.core.display.Image object>"
      ]
     },
     "metadata": {},
     "output_type": "display_data"
    },
    {
     "data": {
      "text/html": [
       "<img src=\"https://skr.sh/i/270520/G7oO89eT.png?download=1\"/>"
      ],
      "text/plain": [
       "<IPython.core.display.Image object>"
      ]
     },
     "metadata": {},
     "output_type": "display_data"
    }
   ],
   "source": [
    "from IPython.display import Image\n",
    "display(Image(url='https://skr.sh/i/270520/z4aiJhue.png?download=1'))\n",
    "display(Image(url='https://skr.sh/i/270520/dWHGzlUX.png?download=1'))\n",
    "display(Image(url='https://skr.sh/i/270520/G7oO89eT.png?download=1'))"
   ]
  },
  {
   "cell_type": "code",
   "execution_count": 5,
   "metadata": {},
   "outputs": [
    {
     "data": {
      "text/html": [
       "<img src=\"https://psv4.userapi.com/c856320/u59259540/docs/d18/63512db82a56/Video-27-05-2020-135831.gif?extra=REWpECWaqBtq59-hG-tEzRNBVGCfuCrg7v0FZ9vnZT35baUGUbpSxGvLnl-IYzGYMq0Om0Pf3E3d7V-mGRk1RTaBtBOD35cDdFS1s0DWwCJvSnABNa_XLUt6-16ykhT2V9q00yjjjEmU9TOAnm9R\"/>"
      ],
      "text/plain": [
       "<IPython.core.display.Image object>"
      ]
     },
     "metadata": {},
     "output_type": "display_data"
    }
   ],
   "source": [
    "from IPython.display import Image\n",
    "display(Image(url='https://psv4.userapi.com/c856320/u59259540/docs/d18/63512db82a56/Video-27-05-2020-135831.gif?extra=REWpECWaqBtq59-hG-tEzRNBVGCfuCrg7v0FZ9vnZT35baUGUbpSxGvLnl-IYzGYMq0Om0Pf3E3d7V-mGRk1RTaBtBOD35cDdFS1s0DWwCJvSnABNa_XLUt6-16ykhT2V9q00yjjjEmU9TOAnm9R'))"
   ]
  },
  {
   "cell_type": "code",
   "execution_count": 14,
   "metadata": {
    "scrolled": true
   },
   "outputs": [
    {
     "data": {
      "text/html": [
       "<img src=\"https://psv4.userapi.com/c856420/u59259540/docs/d16/390bc644029d/Video-29-05-2020-071224.gif?extra=U8vh9xSi-xpni5mca7CD0zWANFkhmVHpuBeOyY3Bu0TD6mJWveaDFwClNIUH8sC9iGFNiIeoqNL4ZW2pSGGOlIK7IZUk7VorkKEdT4AgqtETdG9KG5MAkFq7c8RJK200LFwRQswIpToU3kbBZq60\"/>"
      ],
      "text/plain": [
       "<IPython.core.display.Image object>"
      ]
     },
     "metadata": {},
     "output_type": "display_data"
    }
   ],
   "source": [
    "from IPython.display import Image\n",
    "display(Image(url='https://psv4.userapi.com/c856420/u59259540/docs/d16/390bc644029d/Video-29-05-2020-071224.gif?extra=U8vh9xSi-xpni5mca7CD0zWANFkhmVHpuBeOyY3Bu0TD6mJWveaDFwClNIUH8sC9iGFNiIeoqNL4ZW2pSGGOlIK7IZUk7VorkKEdT4AgqtETdG9KG5MAkFq7c8RJK200LFwRQswIpToU3kbBZq60'))"
   ]
  },
  {
   "cell_type": "markdown",
   "metadata": {},
   "source": [
    "### Реализация"
   ]
  },
  {
   "cell_type": "markdown",
   "metadata": {},
   "source": [
    "Библиотеки, которые использовались для реализации на питоне\n",
    "\n",
    "-numpy\n",
    "\n",
    "-matplotlib\n",
    "\n",
    "-requests\n",
    "\n",
    "-netCDF4\n",
    "\n",
    "-dateutil"
   ]
  },
  {
   "cell_type": "code",
   "execution_count": null,
   "metadata": {},
   "outputs": [],
   "source": [
    "import os\n",
    "import numpy as np\n",
    "import\n",
    "import netCDF4\n",
    "import requests\n",
    "import pickle"
   ]
  },
  {
   "cell_type": "code",
   "execution_count": null,
   "metadata": {},
   "outputs": [],
   "source": [
    " \n",
    "from math import cos, sin, pi\n",
    "from matplotlib import cm\n",
    "from datetime import datetime\n",
    "from dateutil.relativedelta import relativedelta"
   ]
  },
  {
   "cell_type": "code",
   "execution_count": null,
   "metadata": {},
   "outputs": [],
   "source": [
    "ENDPOINT = \"https://earthquake.usgs.gov/fdsnws/event/1/\"\n",
    "LANDMASK = \"netcdf_data/lsmask.nc\"\n",
    "DB_FILE = \"earthquakes.pickle\"\n",
    "PLY_FILE = \"earthquakes.ply\"\n",
    "MAG_RANGE = [2.5, 7]\n",
    "START = datetime.strptime(\"2019-01-01\", \"%Y-%m-%d\")\n",
    "END = datetime.strptime(\"2019-07-01\", \"%Y-%m-%d\")"
   ]
  },
  {
   "cell_type": "markdown",
   "metadata": {},
   "source": [
    "Вспомогательный, для визуализации облака точек"
   ]
  },
  {
   "cell_type": "code",
   "execution_count": null,
   "metadata": {},
   "outputs": [],
   "source": [
    "class PointCloud:\n",
    "   \n",
    "    def __init__(self):\n",
    "        self.coords = []\n",
    "        self.colors = []\n",
    "        pass\n",
    "   \n",
    "    def write( self, path):\n",
    "        with open(path, \"w\") as f:"
   ]
  },
  {
   "cell_type": "code",
   "execution_count": null,
   "metadata": {},
   "outputs": [],
   "source": [
    "write_colors = len(self.colors) = = len(self.coords)"
   ]
  },
  {
   "cell_type": "markdown",
   "metadata": {},
   "source": [
    "Заголовки"
   ]
  },
  {
   "cell_type": "code",
   "execution_count": null,
   "metadata": {},
   "outputs": [],
   "source": [
    "f.write(\"ply\\nformat ascii 1.0\\n\")\n",
    "f.write(\"element vertex %d\\n\" % len(self.coords))\n",
    "f.write(\"property float x\\n\")\n",
    "f.write(\"property float y\\n\")\n",
    "f.write(\"property float z\\n\")\n",
    "            if write_colors:\n",
    "f.write(\"property uchar red\\n\")\n",
    "f.write(\"property uchar green\\n\")\n",
    "f.write(\"property uchar blue\\n\")\n",
    "f.write(\"end_header\\n\")"
   ]
  },
  {
   "cell_type": "markdown",
   "metadata": {},
   "source": [
    "Элементы"
   ]
  },
  {
   "cell_type": "code",
   "execution_count": null,
   "metadata": {},
   "outputs": [],
   "source": [
    "if write_colors:\n",
    "                for coord, color in zip(self.coords, self.colors):\n",
    "f.write(\"%f %f %f %d %d %d\\n\" % (\n",
    "coord[0],\n",
    "coord[1],\n",
    "coord[2],\n",
    "color[ 0 ],\n",
    "color[ 1 ],\n",
    "color[ 2]\n",
    "                    ))\n",
    "            else:\n",
    "                for coord inself.coords:\n",
    "f.write(\"%f %f %f\\n\" % (\n",
    "coord[0],\n",
    "coord[1],\n",
    "coord[2]\n",
    "                    ))\n",
    " \n",
    "def polar_to_xyz( lon, lat, depth):\n",
    "   \n",
    "C = (0 , 0 , 0 ) # Центр\n",
    "S = 0.01      # Масштабный коэффициент\n",
    "D = 3         # Глубина\n",
    "R = 6400      # Радиус земли"
   ]
  },
  {
   "cell_type": "markdown",
   "metadata": {},
   "source": [
    "Координаты сферические в координаты декартовые"
   ]
  },
  {
   "cell_type": "code",
   "execution_count": null,
   "metadata": {},
   "outputs": [],
   "source": [
    "rad_lat, rad_lon = lat * pi / 180, lon * pi / 180\n",
    "    x = C[0] + S * (R-D*depth) * cos(rad_lat) * cos(rad_lon)\n",
    "    y = C[1] + S * (R-D*depth) * cos(rad_lat) * sin(rad_lon)\n",
    "z = C[ 2 ] + S * (R-D*depth) * sin(rad_lat)\n",
    "   \n",
    "    return ( x, y, z)\n",
    " \n",
    "def colormap(x, mini, maxi, cmap= cm.inferno):"
   ]
  },
  {
   "cell_type": "markdown",
   "metadata": {},
   "source": [
    "Примените цветовую карту к значению в соответствии с минимальным / максимальным диапазоном"
   ]
  },
  {
   "cell_type": "code",
   "execution_count": null,
   "metadata": {},
   "outputs": [],
   "source": [
    "   \n",
    "fac = (x-mini) / (maxi-mini)\n",
    "c = cmap( int(255*fac) )\n",
    "   \n",
    "    return (int(255*c[0]), int(255*c[1]), int(255*c[2]))"
   ]
  },
  {
   "cell_type": "markdown",
   "metadata": {},
   "source": [
    "Возврат маски земли из файла netcdf"
   ]
  },
  {
   "cell_type": "code",
   "execution_count": null,
   "metadata": {},
   "outputs": [],
   "source": [
    "def get_landmask():\n",
    "data = netCDF4.Dataset(LANDMASK)\n",
    "   \n",
    "LATS, LONS = np.meshgrid( data.variables[\"lon\"], data.variables[\"lat\"])\n",
    "LATS, LONS = LATS.ravel(), LONS.ravel()\n",
    "MASKS = data.variables[\"mask\"] [0 ] .ravel()\n",
    "MASKS[ LONS<= - 84 ] = 1\n",
    "    lats, lons       = LATS[MASKS==0], LONS[MASKS==0]\n",
    "       \n",
    "    data.close()\n",
    " \n",
    "    return lons, lats\n",
    "     \n",
    "def make_request(method, t_range, m_range):"
   ]
  },
  {
   "cell_type": "code",
   "execution_count": null,
   "metadata": {},
   "outputs": [],
   "source": [
    "request_params = {\n",
    "        \"minmagnitude\" : m_range[0],\n",
    "        \"maxmagnitude\" : m_range[1],\n",
    "        \"starttime\"    : t_range[0],\n",
    "        \"endtime\"      : t_range[1],\n",
    "        \"format\"       : \"csv\",\n",
    "        \"orderby\"      : \"time\",\n",
    "    }"
   ]
  },
  {
   "cell_type": "markdown",
   "metadata": {},
   "source": [
    "Запросы"
   ]
  },
  {
   "cell_type": "code",
   "execution_count": null,
   "metadata": {},
   "outputs": [],
   "source": [
    "    r = requests.get(\n",
    "        ENDPOINT + method,\n",
    "params = request_params\n",
    "    )"
   ]
  },
  {
   "cell_type": "markdown",
   "metadata": {},
   "source": [
    "Проверить верный ли запрос"
   ]
  },
  {
   "cell_type": "code",
   "execution_count": null,
   "metadata": {},
   "outputs": [],
   "source": [
    "    if r.status_code != requests.codes.ok:\n",
    "        print(\"Bad request\")\n",
    "        return None"
   ]
  },
  {
   "cell_type": "markdown",
   "metadata": {},
   "source": [
    "Подсчет количества землетрясений за указанный период"
   ]
  },
  {
   "cell_type": "code",
   "execution_count": null,
   "metadata": {},
   "outputs": [],
   "source": [
    "    if method = = \"count\":\n",
    "        return int( r.text)"
   ]
  },
  {
   "cell_type": "markdown",
   "metadata": {},
   "source": [
    "Поучение данных о землятрясениях за этот период"
   ]
  },
  {
   "cell_type": "code",
   "execution_count": null,
   "metadata": {},
   "outputs": [],
   "source": [
    "    elif method = = \"query\":\n",
    "earthquakes = []\n",
    "lines = r.text.split(\"\\n\") [ 1 :- 1]\n",
    "        for l in lines:\n",
    "splitted = l.split(\",\")\n",
    "obj = {\n",
    "                \"time\": datetime.strptime(splitted[ 0 ], '%Y-%m-%dT%H:%M:%S.%fZ'),\n",
    "                \"lat\": float(splitted[ 1 ] ),\n",
    "                \"lon\": float(splitted[ 2 ] ),\n",
    "                \"depth\": float(splitted[ 3 ] ),\n",
    "                \"mag\": float(splitted[ 4 ] ),\n",
    "            }\n",
    "earthquakes.append( obj)\n",
    "        return earthquakes\n",
    " \n",
    "def get_earthquakes( _start, _end, _mag_range):\n",
    "   \n",
    "earthquakes = []\n",
    "   \n",
    "    while _start < datetime.now( ):"
   ]
  },
  {
   "cell_type": "markdown",
   "metadata": {},
   "source": [
    "Форматирование начальной или конечной даты"
   ]
  },
  {
   "cell_type": "code",
   "execution_count": null,
   "metadata": {},
   "outputs": [],
   "source": [
    "_stop = (_start + relativedelta(weeks= 2 ) ) .strftime(\"%Y-%m-%d\")\n",
    "       \n",
    "# Получить количество землятрясениц за период\n",
    "nQuakes = make_request(\n",
    "method = \"count\",\n",
    "t_range = [ _start, _stop],\n",
    "m_range = _mag_range\n",
    "        )"
   ]
  },
  {
   "cell_type": "markdown",
   "metadata": {},
   "source": [
    "Получить землятрясения"
   ]
  },
  {
   "cell_type": "code",
   "execution_count": null,
   "metadata": {},
   "outputs": [],
   "source": [
    "print(\"Количество %d землятрясений от %s до %s\"% (nQuakes, _start, _stop))\n",
    "       \n",
    "        try:\n",
    "earthquakes.extend(\n",
    "make_request(\n",
    "method = \"query\",\n",
    "t_range = [ _start, _stop],\n",
    "m_range = _mag_range\n",
    "                )\n",
    "            )\n",
    "        except:\n",
    "            pass\n",
    "       \n",
    "        # Изменить начальную дату\n",
    "_start = _start + relativedelta(weeks= 2)\n",
    "       \n",
    "    return earthquakes\n",
    " \n",
    " \n",
    "if __name__ = = \"__main__\":"
   ]
  },
  {
   "cell_type": "markdown",
   "metadata": {},
   "source": [
    "Производятся запросы API, чтобы получить данные"
   ]
  },
  {
   "cell_type": "code",
   "execution_count": null,
   "metadata": {},
   "outputs": [],
   "source": [
    "earthquakes = get_earthquakes( START, END, MAG_RANGE)\n",
    "    with open(DB_FILE, \"wb\") as f:\n",
    "        pickle.dump(earthquakes, f, protocol= pickle.HIGHEST_PROTOCOL)"
   ]
  },
  {
   "cell_type": "markdown",
   "metadata": {},
   "source": [
    "- Считывание данных из файла\n",
    "- землятресений = []\n",
    "- with open (DB_FILE, 'rb') as f:\n",
    "- землетрясения = pickle.load(f)"
   ]
  },
  {
   "cell_type": "markdown",
   "metadata": {},
   "source": [
    "Создание обака точек"
   ]
  },
  {
   "cell_type": "code",
   "execution_count": null,
   "metadata": {},
   "outputs": [],
   "source": [
    "PC = PointCloud()"
   ]
  },
  {
   "cell_type": "code",
   "execution_count": null,
   "metadata": {},
   "outputs": [],
   "source": []
  },
  {
   "cell_type": "markdown",
   "metadata": {},
   "source": [
    "Добавление маски земли в виде белых точек"
   ]
  },
  {
   "cell_type": "code",
   "execution_count": null,
   "metadata": {},
   "outputs": [],
   "source": [
    "lons, lats = get_landmask()\n",
    "PC.coords.extend([ polar_to_xyz(lat, lon, 0 ) for lon, lat in zip(lons, lats) ])\n",
    "PC.colors.extend( [ ( 255, 255 , 255 ) for x in lats ])\n",
    "    "
   ]
  },
  {
   "cell_type": "markdown",
   "metadata": {},
   "source": [
    " Добавление землетрясения в виде цветных данных"
   ]
  },
  {
   "cell_type": "code",
   "execution_count": null,
   "metadata": {},
   "outputs": [],
   "source": [
    "PC.coords.extend([ polar_to_xyz(x[\"lon\"], x[\"lat\"], x[\"depth\"] ) for x in earthquakes ])\n",
    "PC.colors.extend([ colormap(x[\"mag\"], MAG_RANGE[ 0], MAG_RANGE[ 1 ] ) for x in earthquakes ])"
   ]
  },
  {
   "cell_type": "markdown",
   "metadata": {},
   "source": [
    "Содзание файла формата ply"
   ]
  },
  {
   "cell_type": "code",
   "execution_count": null,
   "metadata": {},
   "outputs": [],
   "source": [
    "PC.write( PLY_FILE)"
   ]
  }
 ],
 "metadata": {
  "kernelspec": {
   "display_name": "Python 3",
   "language": "python",
   "name": "python3"
  },
  "language_info": {
   "codemirror_mode": {
    "name": "ipython",
    "version": 3
   },
   "file_extension": ".py",
   "mimetype": "text/x-python",
   "name": "python",
   "nbconvert_exporter": "python",
   "pygments_lexer": "ipython3",
   "version": "3.7.6"
  }
 },
 "nbformat": 4,
 "nbformat_minor": 4
}
